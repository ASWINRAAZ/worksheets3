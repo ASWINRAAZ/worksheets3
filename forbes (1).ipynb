{
 "cells": [
  {
   "cell_type": "code",
   "execution_count": 33,
   "id": "a4f2181c",
   "metadata": {},
   "outputs": [],
   "source": [
    "import pandas as pd\n",
    "import numpy as np\n",
    "import selenium\n",
    "from selenium import webdriver\n",
    "from selenium.common.exceptions import NoSuchElementException\n",
    "import time\n",
    "import warnings\n",
    "warnings.filterwarnings(\"ignore\")"
   ]
  },
  {
   "cell_type": "code",
   "execution_count": 34,
   "id": "d3e9a1b5",
   "metadata": {},
   "outputs": [],
   "source": [
    "driver=webdriver.Chrome(\"chromedriver.exe\")"
   ]
  },
  {
   "cell_type": "code",
   "execution_count": 35,
   "id": "2b4bf06b",
   "metadata": {},
   "outputs": [],
   "source": [
    "url=\"https://www.forbes.com/\"\n",
    "driver.get(url)"
   ]
  },
  {
   "cell_type": "code",
   "execution_count": 36,
   "id": "09699991",
   "metadata": {},
   "outputs": [
    {
     "data": {
      "text/plain": [
       "0"
      ]
     },
     "execution_count": 36,
     "metadata": {},
     "output_type": "execute_result"
    }
   ],
   "source": [
    "Billionaires_rank = driver.find_elements_by_xpath('//div[@class=\"rank\"]')\n",
    "len(Billionaires_rank)\n"
   ]
  },
  {
   "cell_type": "code",
   "execution_count": 39,
   "id": "95304171",
   "metadata": {},
   "outputs": [],
   "source": [
    "Billionaires_rank = []\n",
    "for i in Billionaires_rank:\n",
    "    Billionaires_rank.append(i.text)\n",
    "    len(Billionaires_rank)"
   ]
  },
  {
   "cell_type": "code",
   "execution_count": 40,
   "id": "2424dd8c",
   "metadata": {},
   "outputs": [
    {
     "data": {
      "text/plain": [
       "[]"
      ]
     },
     "execution_count": 40,
     "metadata": {},
     "output_type": "execute_result"
    }
   ],
   "source": [
    "Billionaires_rank"
   ]
  },
  {
   "cell_type": "code",
   "execution_count": 41,
   "id": "9819fbe2",
   "metadata": {},
   "outputs": [
    {
     "data": {
      "text/plain": [
       "200"
      ]
     },
     "execution_count": 41,
     "metadata": {},
     "output_type": "execute_result"
    }
   ],
   "source": [
    "Billionaires_name = driver.find_elements_by_xpath('//div[@class=\"personName\"]')\n",
    "len(Billionaires_name)"
   ]
  },
  {
   "cell_type": "code",
   "execution_count": 85,
   "id": "7c53b4f3",
   "metadata": {},
   "outputs": [],
   "source": [
    "Billionaires_name = []\n",
    "for i in Billionaires_name:\n",
    "    Billionaires_name.append(i.text)\n",
    "    len(Billionaires_name)"
   ]
  },
  {
   "cell_type": "code",
   "execution_count": 86,
   "id": "d6f827c0",
   "metadata": {},
   "outputs": [
    {
     "data": {
      "text/plain": [
       "[]"
      ]
     },
     "execution_count": 86,
     "metadata": {},
     "output_type": "execute_result"
    }
   ],
   "source": [
    "Billionaires_name"
   ]
  },
  {
   "cell_type": "code",
   "execution_count": 81,
   "id": "dd35a5b5",
   "metadata": {},
   "outputs": [
    {
     "data": {
      "text/plain": [
       "200"
      ]
     },
     "execution_count": 81,
     "metadata": {},
     "output_type": "execute_result"
    }
   ],
   "source": [
    "Billionaires_networth = driver.find_elements_by_xpath('//div[@class=\"netWorth\"]')\n",
    "len(Billionaires_networth)"
   ]
  },
  {
   "cell_type": "code",
   "execution_count": 82,
   "id": "6e4c17cd",
   "metadata": {},
   "outputs": [],
   "source": [
    "Billionaires_networth = []\n",
    "for i in Billionaires_networth:\n",
    "    Billionaires_networth.append(i.text)\n",
    "    len(Billionaires_networth)"
   ]
  },
  {
   "cell_type": "code",
   "execution_count": 83,
   "id": "7a1722a2",
   "metadata": {},
   "outputs": [
    {
     "data": {
      "text/plain": [
       "[]"
      ]
     },
     "execution_count": 83,
     "metadata": {},
     "output_type": "execute_result"
    }
   ],
   "source": [
    "Billionaires_networth"
   ]
  },
  {
   "cell_type": "code",
   "execution_count": 84,
   "id": "5a28735b",
   "metadata": {},
   "outputs": [
    {
     "data": {
      "text/plain": [
       "200"
      ]
     },
     "execution_count": 84,
     "metadata": {},
     "output_type": "execute_result"
    }
   ],
   "source": [
    "Billionaires_country = driver.find_elements_by_xpath('//div[@class=\"countryOfCitizenship\"]')\n",
    "len(Billionaires_country)"
   ]
  },
  {
   "cell_type": "code",
   "execution_count": 53,
   "id": "4a4e5e7d",
   "metadata": {},
   "outputs": [],
   "source": [
    "Billionaires_country = []\n",
    "for i in Billionaires_country:\n",
    "    Billionaires_country.append(i.text)\n",
    "    len(Billionaires_country)"
   ]
  },
  {
   "cell_type": "code",
   "execution_count": 54,
   "id": "d6f08e10",
   "metadata": {},
   "outputs": [
    {
     "data": {
      "text/plain": [
       "[]"
      ]
     },
     "execution_count": 54,
     "metadata": {},
     "output_type": "execute_result"
    }
   ],
   "source": [
    "Billionaires_country"
   ]
  },
  {
   "cell_type": "code",
   "execution_count": 55,
   "id": "a2684d78",
   "metadata": {},
   "outputs": [
    {
     "data": {
      "text/plain": [
       "200"
      ]
     },
     "execution_count": 55,
     "metadata": {},
     "output_type": "execute_result"
    }
   ],
   "source": [
    "Billionaires_source = driver.find_elements_by_xpath('//div[@class=\"source\"]')\n",
    "len(Billionaires_source)"
   ]
  },
  {
   "cell_type": "code",
   "execution_count": 56,
   "id": "0662aa25",
   "metadata": {},
   "outputs": [],
   "source": [
    "Billionaires_source = []\n",
    "for i in Billionaires_source:\n",
    "    Billionaires_source.append(i.text)\n",
    "    len(Billionaires_source)"
   ]
  },
  {
   "cell_type": "code",
   "execution_count": 57,
   "id": "c1fee16a",
   "metadata": {},
   "outputs": [
    {
     "data": {
      "text/plain": [
       "[]"
      ]
     },
     "execution_count": 57,
     "metadata": {},
     "output_type": "execute_result"
    }
   ],
   "source": [
    "Billionaires_source"
   ]
  },
  {
   "cell_type": "code",
   "execution_count": null,
   "id": "98295b79",
   "metadata": {},
   "outputs": [],
   "source": []
  }
 ],
 "metadata": {
  "kernelspec": {
   "display_name": "Python 3 (ipykernel)",
   "language": "python",
   "name": "python3"
  },
  "language_info": {
   "codemirror_mode": {
    "name": "ipython",
    "version": 3
   },
   "file_extension": ".py",
   "mimetype": "text/x-python",
   "name": "python",
   "nbconvert_exporter": "python",
   "pygments_lexer": "ipython3",
   "version": "3.9.7"
  }
 },
 "nbformat": 4,
 "nbformat_minor": 5
}
