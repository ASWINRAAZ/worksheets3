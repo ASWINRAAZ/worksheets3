{
 "cells": [
  {
   "cell_type": "code",
   "execution_count": 26,
   "id": "a650f7d1",
   "metadata": {},
   "outputs": [],
   "source": [
    "import pandas as pd\n",
    "import numpy as np\n",
    "import selenium\n",
    "from selenium import webdriver\n",
    "from selenium.common.exceptions import NoSuchElementException\n",
    "import time\n",
    "import warnings\n",
    "warnings.filterwarnings(\"ignore\")"
   ]
  },
  {
   "cell_type": "code",
   "execution_count": 27,
   "id": "f6fed5ca",
   "metadata": {},
   "outputs": [],
   "source": [
    "driver=webdriver.Chrome(\"chromedriver.exe\")"
   ]
  },
  {
   "cell_type": "code",
   "execution_count": 28,
   "id": "a89bbe7f",
   "metadata": {},
   "outputs": [
    {
     "name": "stdout",
     "output_type": "stream",
     "text": [
      "Enter the product you want to search:samsung\n"
     ]
    }
   ],
   "source": [
    "url=\"https://www.flipkart.com\"\n",
    "driver.get(url)\n",
    "user_inp=input(\"Enter the product you want to search:\")"
   ]
  },
  {
   "cell_type": "code",
   "execution_count": 33,
   "id": "a659e55d",
   "metadata": {},
   "outputs": [],
   "source": [
    "search_bar=driver.find_element_by_xpath(\"//input[@name= 'q']\")\n",
    "search_bar.clear()\n",
    "search_bar.send_keys(user_inp)\n",
    "\n",
    "search_btn=driver.find_element_by_xpath(\"//button[@class= 'L0Z3Pu']\")\n",
    "search_btn.click()"
   ]
  },
  {
   "cell_type": "code",
   "execution_count": 34,
   "id": "01b9dbc3",
   "metadata": {},
   "outputs": [
    {
     "data": {
      "text/plain": [
       "['https://www.flipkart.com/samsung-galaxy-f12-sea-green-64-gb/p/itm4d3582cd695fd?pid=MOBGFG794YPQ9RAE&lid=LSTMOBGFG794YPQ9RAEGUPPTW&marketplace=FLIPKART&q=samsungsamsung&store=tyy%2F4io&srno=s_1_1&otracker=search&otracker1=search&fm=Search&iid=c00d0d74-1609-4777-bb95-29d9e0ccc2a9.MOBGFG794YPQ9RAE.SEARCH&ppt=hp&ppn=homepage&ssid=p9p34xumy80000001646930520156&qH=72a630297ad140ba',\n",
       " 'https://www.flipkart.com/samsung-galaxy-f12-sky-blue-64-gb/p/itm0319ce24f74aa?pid=MOBGFG79BVGDHGWV&lid=LSTMOBGFG79BVGDHGWVGF2CRI&marketplace=FLIPKART&q=samsungsamsung&store=tyy%2F4io&srno=s_1_2&otracker=search&otracker1=search&fm=Search&iid=c00d0d74-1609-4777-bb95-29d9e0ccc2a9.MOBGFG79BVGDHGWV.SEARCH&ppt=hp&ppn=homepage&ssid=p9p34xumy80000001646930520156&qH=72a630297ad140ba',\n",
       " 'https://www.flipkart.com/samsung-galaxy-f12-celestial-black-64-gb/p/itmaae10b8db3909?pid=MOBGFG79FUDPXZXQ&lid=LSTMOBGFG79FUDPXZXQH5PM6N&marketplace=FLIPKART&q=samsungsamsung&store=tyy%2F4io&srno=s_1_3&otracker=search&otracker1=search&fm=Search&iid=c00d0d74-1609-4777-bb95-29d9e0ccc2a9.MOBGFG79FUDPXZXQ.SEARCH&ppt=hp&ppn=homepage&ssid=p9p34xumy80000001646930520156&qH=72a630297ad140ba',\n",
       " 'https://www.flipkart.com/samsung-galaxy-m12-black-64-gb/p/itm425898eedc4ce?pid=MOBGFG8H4A32HTKJ&lid=LSTMOBGFG8H4A32HTKJTIUFAY&marketplace=FLIPKART&q=samsungsamsung&store=tyy%2F4io&srno=s_1_4&otracker=search&otracker1=search&fm=Search&iid=c00d0d74-1609-4777-bb95-29d9e0ccc2a9.MOBGFG8H4A32HTKJ.SEARCH&ppt=hp&ppn=homepage&ssid=p9p34xumy80000001646930520156&qH=72a630297ad140ba',\n",
       " 'https://www.flipkart.com/samsung-galaxy-m12-blue-128-gb/p/itmcded83829eef4?pid=MOBGFZUHYABADANE&lid=LSTMOBGFZUHYABADANEXXSONA&marketplace=FLIPKART&q=samsungsamsung&store=tyy%2F4io&srno=s_1_5&otracker=search&otracker1=search&fm=Search&iid=c00d0d74-1609-4777-bb95-29d9e0ccc2a9.MOBGFZUHYABADANE.SEARCH&ppt=hp&ppn=homepage&ssid=p9p34xumy80000001646930520156&qH=72a630297ad140ba',\n",
       " 'https://www.flipkart.com/samsung-galaxy-m12-blue-64-gb/p/itm062b6548d8904?pid=MOBGFG8GCPEGKGF4&lid=LSTMOBGFG8GCPEGKGF4UX7TBP&marketplace=FLIPKART&q=samsungsamsung&store=tyy%2F4io&srno=s_1_6&otracker=search&otracker1=search&fm=Search&iid=c00d0d74-1609-4777-bb95-29d9e0ccc2a9.MOBGFG8GCPEGKGF4.SEARCH&ppt=hp&ppn=homepage&ssid=p9p34xumy80000001646930520156&qH=72a630297ad140ba',\n",
       " 'https://www.flipkart.com/samsung-galaxy-f22-denim-black-128-gb/p/itm9f921a1b4f96c?pid=MOBG43UGFGYU4K4B&lid=LSTMOBG43UGFGYU4K4BEILLGH&marketplace=FLIPKART&q=samsungsamsung&store=tyy%2F4io&srno=s_1_7&otracker=search&otracker1=search&fm=Search&iid=c00d0d74-1609-4777-bb95-29d9e0ccc2a9.MOBG43UGFGYU4K4B.SEARCH&ppt=hp&ppn=homepage&ssid=p9p34xumy80000001646930520156&qH=72a630297ad140ba',\n",
       " 'https://www.flipkart.com/samsung-galaxy-f22-denim-blue-128-gb/p/itm30c755943bea0?pid=MOBG43UGRSMJXTMH&lid=LSTMOBG43UGRSMJXTMH3SYSZ3&marketplace=FLIPKART&q=samsungsamsung&store=tyy%2F4io&srno=s_1_8&otracker=search&otracker1=search&fm=Search&iid=c00d0d74-1609-4777-bb95-29d9e0ccc2a9.MOBG43UGRSMJXTMH.SEARCH&ppt=hp&ppn=homepage&ssid=p9p34xumy80000001646930520156&qH=72a630297ad140ba',\n",
       " 'https://www.flipkart.com/samsung-galaxy-f22-denim-blue-64-gb/p/itmce0a6baf0d54d?pid=MOBG43UGBTGGB99V&lid=LSTMOBG43UGBTGGB99VLZACSD&marketplace=FLIPKART&q=samsungsamsung&store=tyy%2F4io&srno=s_1_9&otracker=search&otracker1=search&fm=Search&iid=c00d0d74-1609-4777-bb95-29d9e0ccc2a9.MOBG43UGBTGGB99V.SEARCH&ppt=hp&ppn=homepage&ssid=p9p34xumy80000001646930520156&qH=72a630297ad140ba',\n",
       " 'https://www.flipkart.com/samsung-galaxy-f22-denim-black-64-gb/p/itm6f47a19cb79ae?pid=MOBG43UGC3PYCBZF&lid=LSTMOBG43UGC3PYCBZFPZLL2Q&marketplace=FLIPKART&q=samsungsamsung&store=tyy%2F4io&srno=s_1_10&otracker=search&otracker1=search&fm=Search&iid=c00d0d74-1609-4777-bb95-29d9e0ccc2a9.MOBG43UGC3PYCBZF.SEARCH&ppt=hp&ppn=homepage&ssid=p9p34xumy80000001646930520156&qH=72a630297ad140ba']"
      ]
     },
     "execution_count": 34,
     "metadata": {},
     "output_type": "execute_result"
    }
   ],
   "source": [
    "URl=[]\n",
    "for j in driver.find_elements_by_xpath('//a[@class=\"_1fQZEK\"]'):\n",
    "     URl.append(j.get_attribute(\"href\"))\n",
    "URl[:10]"
   ]
  },
  {
   "cell_type": "code",
   "execution_count": 35,
   "id": "563cee23",
   "metadata": {},
   "outputs": [],
   "source": [
    "for i in URl:\n",
    "    driver.get(i)"
   ]
  },
  {
   "cell_type": "code",
   "execution_count": 36,
   "id": "75672a81",
   "metadata": {},
   "outputs": [
    {
     "data": {
      "text/plain": [
       "['SAMSUNG S20 FE 5G (Cloud Mint, 128 GB)  (8 GB RAM)']"
      ]
     },
     "execution_count": 36,
     "metadata": {},
     "output_type": "execute_result"
    }
   ],
   "source": [
    "Brand=[]\n",
    "for i in driver.find_elements_by_xpath(\"/html/body/div[1]/div/div[3]/div[1]/div[2]/div[2]/div/div[1]/h1/span\"):\n",
    "    Brand.append(i.text)\n",
    "Brand"
   ]
  },
  {
   "cell_type": "code",
   "execution_count": 37,
   "id": "45cec2e8",
   "metadata": {},
   "outputs": [
    {
     "data": {
      "text/plain": [
       "['₹36,959']"
      ]
     },
     "execution_count": 37,
     "metadata": {},
     "output_type": "execute_result"
    }
   ],
   "source": [
    "Price=[]\n",
    "for i in driver.find_elements_by_xpath(\"//div[@class= '_30jeq3 _16Jk6d']\"):\n",
    "    Price.append(i.text)\n",
    "Price[:1]"
   ]
  },
  {
   "cell_type": "code",
   "execution_count": 38,
   "id": "e2b8abe9",
   "metadata": {},
   "outputs": [
    {
     "data": {
      "text/plain": [
       "['4.3']"
      ]
     },
     "execution_count": 38,
     "metadata": {},
     "output_type": "execute_result"
    }
   ],
   "source": [
    "Rating=[]\n",
    "for i in driver.find_elements_by_xpath(\"/html/body/div[1]/div/div[3]/div[1]/div[2]/div[2]/div/div[2]/div/div/span[1]/div\"):\n",
    "    Rating.append(i.text)\n",
    "Rating"
   ]
  },
  {
   "cell_type": "code",
   "execution_count": 39,
   "id": "59548332",
   "metadata": {},
   "outputs": [
    {
     "data": {
      "text/plain": [
       "[]"
      ]
     },
     "execution_count": 39,
     "metadata": {},
     "output_type": "execute_result"
    }
   ],
   "source": [
    "Color=[]\n",
    "for i in driver.find_elements_by_xpath(\"//html/body/div[1]/div/div[3]/div[1]/div[2]/div[8]/div[4]/div/div[2]/div/div[1]/table/tbody/tr[4]/td[2]/ul/li\"):\n",
    "    Color.append(i.text)\n",
    "Color"
   ]
  },
  {
   "cell_type": "code",
   "execution_count": 40,
   "id": "dd58b97f",
   "metadata": {},
   "outputs": [
    {
     "data": {
      "text/plain": [
       "[]"
      ]
     },
     "execution_count": 40,
     "metadata": {},
     "output_type": "execute_result"
    }
   ],
   "source": [
    "Battery=[]\n",
    "for i in driver.find_elements_by_xpath(\"/html/body/div[1]/div/div[3]/div[1]/div[2]/div[8]/div[4]/div/div[2]/div[1]/div[10]/table/tbody/tr[1]/td[2]/ul/li\"):\n",
    "    Battery.append(i.text)\n",
    "Battery"
   ]
  },
  {
   "cell_type": "code",
   "execution_count": 41,
   "id": "cbd03aae",
   "metadata": {},
   "outputs": [
    {
     "data": {
      "text/plain": [
       "[]"
      ]
     },
     "execution_count": 41,
     "metadata": {},
     "output_type": "execute_result"
    }
   ],
   "source": [
    "ROM=[]\n",
    "for i in driver.find_elements_by_xpath(\"/html/body/div[1]/div/div[3]/div[1]/div[2]/div[8]/div[4]/div/div[2]/div[1]/div[4]/table/tbody/tr[1]/td[2]/ul/li\"):\n",
    "    ROM.append(i.text)\n",
    "ROM"
   ]
  },
  {
   "cell_type": "code",
   "execution_count": 42,
   "id": "f7496f60",
   "metadata": {},
   "outputs": [
    {
     "data": {
      "text/plain": [
       "[]"
      ]
     },
     "execution_count": 42,
     "metadata": {},
     "output_type": "execute_result"
    }
   ],
   "source": [
    "RAM=[]\n",
    "for i in driver.find_elements_by_xpath(\"/html/body/div[1]/div/div[3]/div[1]/div[2]/div[8]/div[4]/div/div[2]/div[1]/div[4]/table/tbody/tr[2]/td[2]/ul/li\"):\n",
    "    RAM.append(i.text)\n",
    "RAM"
   ]
  },
  {
   "cell_type": "code",
   "execution_count": 43,
   "id": "3ea8298c",
   "metadata": {},
   "outputs": [
    {
     "data": {
      "text/plain": [
       "[]"
      ]
     },
     "execution_count": 43,
     "metadata": {},
     "output_type": "execute_result"
    }
   ],
   "source": [
    "Display_Resolution=[]\n",
    "for i in driver.find_elements_by_xpath(\"/html/body/div[1]/div/div[3]/div[1]/div[2]/div[8]/div[4]/div/div[2]/div[1]/div[2]/table/tbody/tr[2]/td[2]/ul/li\"):\n",
    "    Display_Resolution.append(i.text)\n",
    "Display_Resolution"
   ]
  },
  {
   "cell_type": "code",
   "execution_count": 44,
   "id": "185e822f",
   "metadata": {},
   "outputs": [
    {
     "data": {
      "text/plain": [
       "[]"
      ]
     },
     "execution_count": 44,
     "metadata": {},
     "output_type": "execute_result"
    }
   ],
   "source": [
    "Process_core=[]\n",
    "for i in driver.find_elements_by_xpath(\"/html/body/div[1]/div/div[3]/div[1]/div[2]/div[8]/div[4]/div/div[2]/div[1]/div[3]/table/tbody/tr[3]/td[2]/ul/li\"):\n",
    "    Process_core.append(i.text)\n",
    "Process_core"
   ]
  },
  {
   "cell_type": "code",
   "execution_count": 45,
   "id": "0dd3a70b",
   "metadata": {},
   "outputs": [
    {
     "data": {
      "text/plain": [
       "[]"
      ]
     },
     "execution_count": 45,
     "metadata": {},
     "output_type": "execute_result"
    }
   ],
   "source": [
    "Processor=[]\n",
    "for i in driver.find_elements_by_xpath(\"/html/body/div[1]/div/div[3]/div[1]/div[2]/div[8]/div[4]/div/div[2]/div[1]/div[3]/table/tbody/tr[2]/td[2]/ul/li\"):\n",
    "    Processor.append(i.text)\n",
    "Processor"
   ]
  },
  {
   "cell_type": "code",
   "execution_count": 46,
   "id": "9153655b",
   "metadata": {},
   "outputs": [
    {
     "data": {
      "text/plain": [
       "[]"
      ]
     },
     "execution_count": 46,
     "metadata": {},
     "output_type": "execute_result"
    }
   ],
   "source": [
    "Primary_camera=[]\n",
    "for i in driver.find_elements_by_xpath(\"/html/body/div[1]/div/div[3]/div[1]/div[2]/div[8]/div[4]/div/div[2]/div[1]/div[5]/table/tbody/tr[2]/td[2]/ul/li\"):\n",
    "    Primary_camera.append(i.text)\n",
    "Primary_camera"
   ]
  },
  {
   "cell_type": "code",
   "execution_count": 47,
   "id": "ec37e923",
   "metadata": {},
   "outputs": [
    {
     "data": {
      "text/plain": [
       "[]"
      ]
     },
     "execution_count": 47,
     "metadata": {},
     "output_type": "execute_result"
    }
   ],
   "source": [
    "Secondary_camera=[]\n",
    "for i in driver.find_elements_by_xpath(\"/html/body/div[1]/div/div[3]/div[1]/div[2]/div[8]/div[4]/div/div[2]/div[1]/div[5]/table/tbody/tr[4]/td[2]/ul/li\"):\n",
    "    Secondary_camera.append(i.text)\n",
    "Secondary_camera"
   ]
  },
  {
   "cell_type": "code",
   "execution_count": 48,
   "id": "0322315e",
   "metadata": {},
   "outputs": [
    {
     "name": "stdout",
     "output_type": "stream",
     "text": [
      "1 1 1 0 0 0 0 0 0 0 0 0\n"
     ]
    }
   ],
   "source": [
    "print(len(Brand),len(Price),len(Rating),len(Color),len(Battery),len(ROM),len(RAM),len(Display_Resolution)\n",
    "      ,len(Process_core),len(Processor),len(Primary_camera),len(Secondary_camera))"
   ]
  },
  {
   "cell_type": "code",
   "execution_count": 49,
   "id": "bc0d3d05",
   "metadata": {},
   "outputs": [
    {
     "ename": "ValueError",
     "evalue": "Length of values (0) does not match length of index (1)",
     "output_type": "error",
     "traceback": [
      "\u001b[1;31m---------------------------------------------------------------------------\u001b[0m",
      "\u001b[1;31mValueError\u001b[0m                                Traceback (most recent call last)",
      "\u001b[1;32mC:\\Users\\RAUSHA~1\\AppData\\Local\\Temp/ipykernel_23508/4243875729.py\u001b[0m in \u001b[0;36m<module>\u001b[1;34m\u001b[0m\n\u001b[0;32m      3\u001b[0m \u001b[0mSamsung\u001b[0m\u001b[1;33m[\u001b[0m\u001b[1;34m\"Price\"\u001b[0m\u001b[1;33m]\u001b[0m\u001b[1;33m=\u001b[0m\u001b[0mPrice\u001b[0m\u001b[1;33m\u001b[0m\u001b[1;33m\u001b[0m\u001b[0m\n\u001b[0;32m      4\u001b[0m \u001b[0mSamsung\u001b[0m\u001b[1;33m[\u001b[0m\u001b[1;34m\"Rating\"\u001b[0m\u001b[1;33m]\u001b[0m\u001b[1;33m=\u001b[0m\u001b[0mRating\u001b[0m\u001b[1;33m\u001b[0m\u001b[1;33m\u001b[0m\u001b[0m\n\u001b[1;32m----> 5\u001b[1;33m \u001b[0mSamsung\u001b[0m\u001b[1;33m[\u001b[0m\u001b[1;34m\"Color\"\u001b[0m\u001b[1;33m]\u001b[0m\u001b[1;33m=\u001b[0m\u001b[0mColor\u001b[0m\u001b[1;33m\u001b[0m\u001b[1;33m\u001b[0m\u001b[0m\n\u001b[0m\u001b[0;32m      6\u001b[0m \u001b[0mSamsung\u001b[0m\u001b[1;33m[\u001b[0m\u001b[1;34m\"Battery\"\u001b[0m\u001b[1;33m]\u001b[0m\u001b[1;33m=\u001b[0m\u001b[0mBattery\u001b[0m\u001b[1;33m\u001b[0m\u001b[1;33m\u001b[0m\u001b[0m\n\u001b[0;32m      7\u001b[0m \u001b[0mSamsung\u001b[0m\u001b[1;33m[\u001b[0m\u001b[1;34m\"ROM\"\u001b[0m\u001b[1;33m]\u001b[0m\u001b[1;33m=\u001b[0m\u001b[0mROM\u001b[0m\u001b[1;33m\u001b[0m\u001b[1;33m\u001b[0m\u001b[0m\n",
      "\u001b[1;32mC:\\Anaconda3\\lib\\site-packages\\pandas\\core\\frame.py\u001b[0m in \u001b[0;36m__setitem__\u001b[1;34m(self, key, value)\u001b[0m\n\u001b[0;32m   3610\u001b[0m         \u001b[1;32melse\u001b[0m\u001b[1;33m:\u001b[0m\u001b[1;33m\u001b[0m\u001b[1;33m\u001b[0m\u001b[0m\n\u001b[0;32m   3611\u001b[0m             \u001b[1;31m# set column\u001b[0m\u001b[1;33m\u001b[0m\u001b[1;33m\u001b[0m\u001b[0m\n\u001b[1;32m-> 3612\u001b[1;33m             \u001b[0mself\u001b[0m\u001b[1;33m.\u001b[0m\u001b[0m_set_item\u001b[0m\u001b[1;33m(\u001b[0m\u001b[0mkey\u001b[0m\u001b[1;33m,\u001b[0m \u001b[0mvalue\u001b[0m\u001b[1;33m)\u001b[0m\u001b[1;33m\u001b[0m\u001b[1;33m\u001b[0m\u001b[0m\n\u001b[0m\u001b[0;32m   3613\u001b[0m \u001b[1;33m\u001b[0m\u001b[0m\n\u001b[0;32m   3614\u001b[0m     \u001b[1;32mdef\u001b[0m \u001b[0m_setitem_slice\u001b[0m\u001b[1;33m(\u001b[0m\u001b[0mself\u001b[0m\u001b[1;33m,\u001b[0m \u001b[0mkey\u001b[0m\u001b[1;33m:\u001b[0m \u001b[0mslice\u001b[0m\u001b[1;33m,\u001b[0m \u001b[0mvalue\u001b[0m\u001b[1;33m)\u001b[0m\u001b[1;33m:\u001b[0m\u001b[1;33m\u001b[0m\u001b[1;33m\u001b[0m\u001b[0m\n",
      "\u001b[1;32mC:\\Anaconda3\\lib\\site-packages\\pandas\\core\\frame.py\u001b[0m in \u001b[0;36m_set_item\u001b[1;34m(self, key, value)\u001b[0m\n\u001b[0;32m   3782\u001b[0m         \u001b[0mensure\u001b[0m \u001b[0mhomogeneity\u001b[0m\u001b[1;33m.\u001b[0m\u001b[1;33m\u001b[0m\u001b[1;33m\u001b[0m\u001b[0m\n\u001b[0;32m   3783\u001b[0m         \"\"\"\n\u001b[1;32m-> 3784\u001b[1;33m         \u001b[0mvalue\u001b[0m \u001b[1;33m=\u001b[0m \u001b[0mself\u001b[0m\u001b[1;33m.\u001b[0m\u001b[0m_sanitize_column\u001b[0m\u001b[1;33m(\u001b[0m\u001b[0mvalue\u001b[0m\u001b[1;33m)\u001b[0m\u001b[1;33m\u001b[0m\u001b[1;33m\u001b[0m\u001b[0m\n\u001b[0m\u001b[0;32m   3785\u001b[0m \u001b[1;33m\u001b[0m\u001b[0m\n\u001b[0;32m   3786\u001b[0m         if (\n",
      "\u001b[1;32mC:\\Anaconda3\\lib\\site-packages\\pandas\\core\\frame.py\u001b[0m in \u001b[0;36m_sanitize_column\u001b[1;34m(self, value)\u001b[0m\n\u001b[0;32m   4507\u001b[0m \u001b[1;33m\u001b[0m\u001b[0m\n\u001b[0;32m   4508\u001b[0m         \u001b[1;32mif\u001b[0m \u001b[0mis_list_like\u001b[0m\u001b[1;33m(\u001b[0m\u001b[0mvalue\u001b[0m\u001b[1;33m)\u001b[0m\u001b[1;33m:\u001b[0m\u001b[1;33m\u001b[0m\u001b[1;33m\u001b[0m\u001b[0m\n\u001b[1;32m-> 4509\u001b[1;33m             \u001b[0mcom\u001b[0m\u001b[1;33m.\u001b[0m\u001b[0mrequire_length_match\u001b[0m\u001b[1;33m(\u001b[0m\u001b[0mvalue\u001b[0m\u001b[1;33m,\u001b[0m \u001b[0mself\u001b[0m\u001b[1;33m.\u001b[0m\u001b[0mindex\u001b[0m\u001b[1;33m)\u001b[0m\u001b[1;33m\u001b[0m\u001b[1;33m\u001b[0m\u001b[0m\n\u001b[0m\u001b[0;32m   4510\u001b[0m         \u001b[1;32mreturn\u001b[0m \u001b[0msanitize_array\u001b[0m\u001b[1;33m(\u001b[0m\u001b[0mvalue\u001b[0m\u001b[1;33m,\u001b[0m \u001b[0mself\u001b[0m\u001b[1;33m.\u001b[0m\u001b[0mindex\u001b[0m\u001b[1;33m,\u001b[0m \u001b[0mcopy\u001b[0m\u001b[1;33m=\u001b[0m\u001b[1;32mTrue\u001b[0m\u001b[1;33m,\u001b[0m \u001b[0mallow_2d\u001b[0m\u001b[1;33m=\u001b[0m\u001b[1;32mTrue\u001b[0m\u001b[1;33m)\u001b[0m\u001b[1;33m\u001b[0m\u001b[1;33m\u001b[0m\u001b[0m\n\u001b[0;32m   4511\u001b[0m \u001b[1;33m\u001b[0m\u001b[0m\n",
      "\u001b[1;32mC:\\Anaconda3\\lib\\site-packages\\pandas\\core\\common.py\u001b[0m in \u001b[0;36mrequire_length_match\u001b[1;34m(data, index)\u001b[0m\n\u001b[0;32m    529\u001b[0m     \"\"\"\n\u001b[0;32m    530\u001b[0m     \u001b[1;32mif\u001b[0m \u001b[0mlen\u001b[0m\u001b[1;33m(\u001b[0m\u001b[0mdata\u001b[0m\u001b[1;33m)\u001b[0m \u001b[1;33m!=\u001b[0m \u001b[0mlen\u001b[0m\u001b[1;33m(\u001b[0m\u001b[0mindex\u001b[0m\u001b[1;33m)\u001b[0m\u001b[1;33m:\u001b[0m\u001b[1;33m\u001b[0m\u001b[1;33m\u001b[0m\u001b[0m\n\u001b[1;32m--> 531\u001b[1;33m         raise ValueError(\n\u001b[0m\u001b[0;32m    532\u001b[0m             \u001b[1;34m\"Length of values \"\u001b[0m\u001b[1;33m\u001b[0m\u001b[1;33m\u001b[0m\u001b[0m\n\u001b[0;32m    533\u001b[0m             \u001b[1;34mf\"({len(data)}) \"\u001b[0m\u001b[1;33m\u001b[0m\u001b[1;33m\u001b[0m\u001b[0m\n",
      "\u001b[1;31mValueError\u001b[0m: Length of values (0) does not match length of index (1)"
     ]
    }
   ],
   "source": [
    "Samsung=pd.DataFrame({})\n",
    "Samsung[\"Brand\"]=Brand\n",
    "Samsung[\"Price\"]=Price\n",
    "Samsung[\"Rating\"]=Rating\n",
    "Samsung[\"Color\"]=Color\n",
    "Samsung[\"Battery\"]=Battery\n",
    "Samsung[\"ROM\"]=ROM\n",
    "Samsung[\"RAM\"]=RAM\n",
    "Samsung[\"Display_Resolution\"]=Display_Resolution\n",
    "Samsung[\"Process_core\"]=Process_core\n",
    "Samsung[\"Processor\"]=Processor\n",
    "Samsung[\"Primary_camera\"]=Primary_camera\n",
    "Samsung[\"Secondary_camera\"]=Secondary_camera\n",
    "Samsung"
   ]
  },
  {
   "cell_type": "code",
   "execution_count": null,
   "id": "2c341859",
   "metadata": {},
   "outputs": [],
   "source": []
  }
 ],
 "metadata": {
  "kernelspec": {
   "display_name": "Python 3 (ipykernel)",
   "language": "python",
   "name": "python3"
  },
  "language_info": {
   "codemirror_mode": {
    "name": "ipython",
    "version": 3
   },
   "file_extension": ".py",
   "mimetype": "text/x-python",
   "name": "python",
   "nbconvert_exporter": "python",
   "pygments_lexer": "ipython3",
   "version": "3.9.7"
  }
 },
 "nbformat": 4,
 "nbformat_minor": 5
}
