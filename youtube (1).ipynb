{
 "cells": [
  {
   "cell_type": "code",
   "execution_count": 1,
   "id": "7b1fccd4",
   "metadata": {},
   "outputs": [],
   "source": [
    "import pandas as pd\n",
    "import numpy as np\n",
    "import selenium\n",
    "from selenium import webdriver\n",
    "from selenium.common.exceptions import NoSuchElementException\n",
    "import time\n",
    "import warnings\n",
    "warnings.filterwarnings(\"ignore\")"
   ]
  },
  {
   "cell_type": "code",
   "execution_count": 2,
   "id": "e70bfb43",
   "metadata": {},
   "outputs": [],
   "source": [
    "driver=webdriver.Chrome(\"chromedriver.exe\")"
   ]
  },
  {
   "cell_type": "code",
   "execution_count": 3,
   "id": "77fa04e2",
   "metadata": {},
   "outputs": [],
   "source": [
    "url=\"https://www.youtube.com/watch?v=h1hdxIV-03M&ab_channel=ZeeMusicCompany\"\n",
    "driver.get(url)"
   ]
  },
  {
   "cell_type": "code",
   "execution_count": 31,
   "id": "9230d081",
   "metadata": {},
   "outputs": [
    {
     "data": {
      "text/plain": [
       "2"
      ]
     },
     "execution_count": 31,
     "metadata": {},
     "output_type": "execute_result"
    }
   ],
   "source": [
    "comment_tags = driver.find_elements_by_xpath('//div[@class=\"style-scope ytd-expander\"]')\n",
    "len(comment_tags)\n"
   ]
  },
  {
   "cell_type": "code",
   "execution_count": 32,
   "id": "cb1c51ce",
   "metadata": {},
   "outputs": [],
   "source": [
    "comment_title = []\n",
    "for i in comment_tags:\n",
    "    comment_title.append(i.text)\n",
    "    len(comment_title)"
   ]
  },
  {
   "cell_type": "code",
   "execution_count": 33,
   "id": "6ba2c191",
   "metadata": {},
   "outputs": [
    {
     "data": {
      "text/plain": [
       "['👉🏻 SUBSCRIBE to Zee Music Company - https://bit.ly/2yPcBkS \\n\\nTo Stream & Download Full Song: \\nSpotify - ',\n",
       " '']"
      ]
     },
     "execution_count": 33,
     "metadata": {},
     "output_type": "execute_result"
    }
   ],
   "source": [
    "comment_title"
   ]
  },
  {
   "cell_type": "code",
   "execution_count": 38,
   "id": "48fb4db0",
   "metadata": {},
   "outputs": [
    {
     "data": {
      "text/plain": [
       "2"
      ]
     },
     "execution_count": 38,
     "metadata": {},
     "output_type": "execute_result"
    }
   ],
   "source": [
    "comment_upvote = driver.find_elements_by_xpath('//a[@class=\"yt-simple-endpoint style-scope ytd-toggle-button-renderer\"]')\n",
    "len(comment_upvote)"
   ]
  },
  {
   "cell_type": "code",
   "execution_count": 39,
   "id": "32c3086c",
   "metadata": {},
   "outputs": [],
   "source": [
    "comment_upvote = []\n",
    "for i in comment_upvote:\n",
    "    comment_upvote.append(i.text)\n",
    "    len(comment_upvote)"
   ]
  },
  {
   "cell_type": "code",
   "execution_count": 40,
   "id": "44d08083",
   "metadata": {},
   "outputs": [
    {
     "data": {
      "text/plain": [
       "[]"
      ]
     },
     "execution_count": 40,
     "metadata": {},
     "output_type": "execute_result"
    }
   ],
   "source": [
    "comment_upvote"
   ]
  },
  {
   "cell_type": "code",
   "execution_count": 41,
   "id": "a37b26c6",
   "metadata": {},
   "outputs": [
    {
     "data": {
      "text/plain": [
       "0"
      ]
     },
     "execution_count": 41,
     "metadata": {},
     "output_type": "execute_result"
    }
   ],
   "source": [
    "comment_time = driver.find_elements_by_xpath('//a[@class=\"yt-simple-endpoint style-scope yt-formatted-string\"]')\n",
    "len(comment_upvote)"
   ]
  },
  {
   "cell_type": "code",
   "execution_count": 42,
   "id": "19692106",
   "metadata": {},
   "outputs": [],
   "source": [
    "comment_time = []\n",
    "for i in comment_time:\n",
    "    comment_time.append(i.text)\n",
    "    len(comment_time)"
   ]
  },
  {
   "cell_type": "code",
   "execution_count": 43,
   "id": "dabb3813",
   "metadata": {},
   "outputs": [
    {
     "data": {
      "text/plain": [
       "[]"
      ]
     },
     "execution_count": 43,
     "metadata": {},
     "output_type": "execute_result"
    }
   ],
   "source": [
    "comment_time"
   ]
  },
  {
   "cell_type": "code",
   "execution_count": null,
   "id": "9c08df0c",
   "metadata": {},
   "outputs": [],
   "source": []
  }
 ],
 "metadata": {
  "kernelspec": {
   "display_name": "Python 3 (ipykernel)",
   "language": "python",
   "name": "python3"
  },
  "language_info": {
   "codemirror_mode": {
    "name": "ipython",
    "version": 3
   },
   "file_extension": ".py",
   "mimetype": "text/x-python",
   "name": "python",
   "nbconvert_exporter": "python",
   "pygments_lexer": "ipython3",
   "version": "3.9.7"
  }
 },
 "nbformat": 4,
 "nbformat_minor": 5
}
