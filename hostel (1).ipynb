{
 "cells": [
  {
   "cell_type": "code",
   "execution_count": 1,
   "id": "fc6142e4",
   "metadata": {},
   "outputs": [
    {
     "name": "stdout",
     "output_type": "stream",
     "text": [
      "Requirement already satisfied: selenium in c:\\anaconda3\\lib\\site-packages (3.141.0)\n",
      "Requirement already satisfied: urllib3 in c:\\anaconda3\\lib\\site-packages (from selenium) (1.26.7)\n",
      "Note: you may need to restart the kernel to use updated packages.\n"
     ]
    }
   ],
   "source": [
    "pip install selenium"
   ]
  },
  {
   "cell_type": "code",
   "execution_count": 11,
   "id": "594ba245",
   "metadata": {},
   "outputs": [],
   "source": [
    "import pandas as pd\n",
    "import numpy as np\n",
    "import selenium\n",
    "from selenium import webdriver\n",
    "from selenium.common.exceptions import NoSuchElementException\n",
    "import time\n",
    "import warnings\n",
    "warnings.filterwarnings(\"ignore\")"
   ]
  },
  {
   "cell_type": "code",
   "execution_count": 12,
   "id": "ab5db56d",
   "metadata": {},
   "outputs": [],
   "source": [
    "driver=webdriver.Chrome(\"chromedriver.exe\")"
   ]
  },
  {
   "cell_type": "code",
   "execution_count": 13,
   "id": "e63199fb",
   "metadata": {},
   "outputs": [],
   "source": [
    "url=\"https://www.hostelworld.com/\"\n",
    "driver.get(url)"
   ]
  },
  {
   "cell_type": "code",
   "execution_count": 23,
   "id": "67b9c02c",
   "metadata": {},
   "outputs": [],
   "source": [
    "hostel_name = driver.find_elements_by_xpath('//div[@class=\"title-row\"]')"
   ]
  },
  {
   "cell_type": "code",
   "execution_count": 28,
   "id": "3284f429",
   "metadata": {},
   "outputs": [
    {
     "data": {
      "text/plain": [
       "0"
      ]
     },
     "execution_count": 28,
     "metadata": {},
     "output_type": "execute_result"
    }
   ],
   "source": [
    "len(hostel_name)"
   ]
  },
  {
   "cell_type": "code",
   "execution_count": 29,
   "id": "6dba1b36",
   "metadata": {},
   "outputs": [],
   "source": [
    "hostel_name = []\n",
    "for i in hostel_name:\n",
    "    hostel_name.append(i.text)\n",
    "    len(hostel_name)"
   ]
  },
  {
   "cell_type": "code",
   "execution_count": 30,
   "id": "caf394c3",
   "metadata": {},
   "outputs": [
    {
     "data": {
      "text/plain": [
       "[]"
      ]
     },
     "execution_count": 30,
     "metadata": {},
     "output_type": "execute_result"
    }
   ],
   "source": [
    "hostel_name"
   ]
  },
  {
   "cell_type": "code",
   "execution_count": 27,
   "id": "d72e9415",
   "metadata": {},
   "outputs": [],
   "source": [
    "hostel_distance = driver.find_elements_by_xpath('//span[@class=\"description\"]')"
   ]
  },
  {
   "cell_type": "code",
   "execution_count": 31,
   "id": "0d100cae",
   "metadata": {},
   "outputs": [
    {
     "data": {
      "text/plain": [
       "0"
      ]
     },
     "execution_count": 31,
     "metadata": {},
     "output_type": "execute_result"
    }
   ],
   "source": [
    "len(hostel_distance)"
   ]
  },
  {
   "cell_type": "code",
   "execution_count": 32,
   "id": "28578634",
   "metadata": {},
   "outputs": [],
   "source": [
    "hostel_distance = []\n",
    "for i in hostel_distance:\n",
    "    hostel_distance.append(i.text)\n",
    "    len(hostel_distance)"
   ]
  },
  {
   "cell_type": "code",
   "execution_count": 33,
   "id": "1db449b6",
   "metadata": {},
   "outputs": [
    {
     "data": {
      "text/plain": [
       "[]"
      ]
     },
     "execution_count": 33,
     "metadata": {},
     "output_type": "execute_result"
    }
   ],
   "source": [
    "hostel_distance"
   ]
  },
  {
   "cell_type": "code",
   "execution_count": 34,
   "id": "8735acf6",
   "metadata": {},
   "outputs": [],
   "source": [
    "hostel_review = driver.find_elements_by_xpath('//div[@class=\"score orange big\"]')"
   ]
  },
  {
   "cell_type": "code",
   "execution_count": 36,
   "id": "72a11faf",
   "metadata": {},
   "outputs": [
    {
     "data": {
      "text/plain": [
       "0"
      ]
     },
     "execution_count": 36,
     "metadata": {},
     "output_type": "execute_result"
    }
   ],
   "source": [
    "len(hostel_review)"
   ]
  },
  {
   "cell_type": "code",
   "execution_count": 41,
   "id": "20003a79",
   "metadata": {},
   "outputs": [],
   "source": [
    "hostel_review = []\n",
    "for i in hostel_review:\n",
    "    hostel_review.append(i.text)\n",
    "    len(hostel_review)"
   ]
  },
  {
   "cell_type": "code",
   "execution_count": 38,
   "id": "dffbdd5c",
   "metadata": {},
   "outputs": [
    {
     "data": {
      "text/plain": [
       "[]"
      ]
     },
     "execution_count": 38,
     "metadata": {},
     "output_type": "execute_result"
    }
   ],
   "source": [
    "hostel_review"
   ]
  },
  {
   "cell_type": "code",
   "execution_count": 39,
   "id": "5df71704",
   "metadata": {},
   "outputs": [],
   "source": [
    "total_review = driver.find_elements_by_xpath('//div[@class=\"reviews\"]')"
   ]
  },
  {
   "cell_type": "code",
   "execution_count": 40,
   "id": "b008af9c",
   "metadata": {},
   "outputs": [
    {
     "data": {
      "text/plain": [
       "0"
      ]
     },
     "execution_count": 40,
     "metadata": {},
     "output_type": "execute_result"
    }
   ],
   "source": [
    "len(total_review)"
   ]
  },
  {
   "cell_type": "code",
   "execution_count": 42,
   "id": "3afea5ea",
   "metadata": {},
   "outputs": [],
   "source": [
    "total_review = []\n",
    "for i in total_review:\n",
    "    total_review.append(i.text)\n",
    "    len(total_review)"
   ]
  },
  {
   "cell_type": "code",
   "execution_count": 43,
   "id": "20a2ba5b",
   "metadata": {},
   "outputs": [
    {
     "data": {
      "text/plain": [
       "[]"
      ]
     },
     "execution_count": 43,
     "metadata": {},
     "output_type": "execute_result"
    }
   ],
   "source": [
    "total_review"
   ]
  },
  {
   "cell_type": "code",
   "execution_count": 49,
   "id": "f1b75789",
   "metadata": {},
   "outputs": [],
   "source": [
    "private_price = driver.find_elements_by_xpath('//span[@class=\"price-strikethrough body-1\"]')"
   ]
  },
  {
   "cell_type": "code",
   "execution_count": 50,
   "id": "6a5d4855",
   "metadata": {},
   "outputs": [
    {
     "data": {
      "text/plain": [
       "0"
      ]
     },
     "execution_count": 50,
     "metadata": {},
     "output_type": "execute_result"
    }
   ],
   "source": [
    "len(private_price)"
   ]
  },
  {
   "cell_type": "code",
   "execution_count": 51,
   "id": "46b188b1",
   "metadata": {},
   "outputs": [],
   "source": [
    "private_price = []\n",
    "for i in private_price:\n",
    "    private_price.append(i.text)\n",
    "    len(private_price)"
   ]
  },
  {
   "cell_type": "code",
   "execution_count": 52,
   "id": "3c723234",
   "metadata": {},
   "outputs": [
    {
     "data": {
      "text/plain": [
       "[]"
      ]
     },
     "execution_count": 52,
     "metadata": {},
     "output_type": "execute_result"
    }
   ],
   "source": [
    "private_price"
   ]
  },
  {
   "cell_type": "code",
   "execution_count": 54,
   "id": "22be7434",
   "metadata": {},
   "outputs": [],
   "source": [
    "dorms_price = driver.find_elements_by_xpath('//div[@class=\"price title-5\"]')"
   ]
  },
  {
   "cell_type": "code",
   "execution_count": 55,
   "id": "007c594b",
   "metadata": {},
   "outputs": [
    {
     "data": {
      "text/plain": [
       "0"
      ]
     },
     "execution_count": 55,
     "metadata": {},
     "output_type": "execute_result"
    }
   ],
   "source": [
    "len(dorms_price)"
   ]
  },
  {
   "cell_type": "code",
   "execution_count": 56,
   "id": "08d138fc",
   "metadata": {},
   "outputs": [],
   "source": [
    "dorms_price = []\n",
    "for i in dorms_price:\n",
    "    dorms_price.append(i.text)\n",
    "    len(dorms_price)"
   ]
  },
  {
   "cell_type": "code",
   "execution_count": 57,
   "id": "1333b6af",
   "metadata": {},
   "outputs": [
    {
     "data": {
      "text/plain": [
       "[]"
      ]
     },
     "execution_count": 57,
     "metadata": {},
     "output_type": "execute_result"
    }
   ],
   "source": [
    "dorms_price"
   ]
  },
  {
   "cell_type": "code",
   "execution_count": 59,
   "id": "41062843",
   "metadata": {},
   "outputs": [],
   "source": [
    "facilities_description = driver.find_elements_by_xpath('//div[@class=\"facilities-label facilities\"]')"
   ]
  },
  {
   "cell_type": "code",
   "execution_count": 60,
   "id": "5a67fce0",
   "metadata": {},
   "outputs": [
    {
     "data": {
      "text/plain": [
       "0"
      ]
     },
     "execution_count": 60,
     "metadata": {},
     "output_type": "execute_result"
    }
   ],
   "source": [
    "len(facilities_description)"
   ]
  },
  {
   "cell_type": "code",
   "execution_count": 61,
   "id": "d286be81",
   "metadata": {},
   "outputs": [],
   "source": [
    "facilities_description = []\n",
    "for i in facilities_description:\n",
    "    facilities_description.append(i.text)\n",
    "    len(facilities_description)"
   ]
  },
  {
   "cell_type": "code",
   "execution_count": 62,
   "id": "7ed61e28",
   "metadata": {},
   "outputs": [
    {
     "data": {
      "text/plain": [
       "[]"
      ]
     },
     "execution_count": 62,
     "metadata": {},
     "output_type": "execute_result"
    }
   ],
   "source": [
    "facilities_description"
   ]
  },
  {
   "cell_type": "code",
   "execution_count": null,
   "id": "182bd939",
   "metadata": {},
   "outputs": [],
   "source": []
  }
 ],
 "metadata": {
  "kernelspec": {
   "display_name": "Python 3 (ipykernel)",
   "language": "python",
   "name": "python3"
  },
  "language_info": {
   "codemirror_mode": {
    "name": "ipython",
    "version": 3
   },
   "file_extension": ".py",
   "mimetype": "text/x-python",
   "name": "python",
   "nbconvert_exporter": "python",
   "pygments_lexer": "ipython3",
   "version": "3.9.7"
  }
 },
 "nbformat": 4,
 "nbformat_minor": 5
}
